{
 "cells": [
  {
   "cell_type": "markdown",
   "metadata": {},
   "source": [
    "#### Import Libraries"
   ]
  },
  {
   "cell_type": "code",
   "execution_count": 1,
   "metadata": {},
   "outputs": [],
   "source": [
    "import cv2\n",
    "import numpy as np\n",
    "import face_recognition\n",
    "import imutils"
   ]
  },
  {
   "cell_type": "markdown",
   "metadata": {},
   "source": [
    "#### Load Images and Detect Faces"
   ]
  },
  {
   "cell_type": "code",
   "execution_count": 2,
   "metadata": {},
   "outputs": [
    {
     "data": {
      "text/plain": [
       "-1"
      ]
     },
     "execution_count": 2,
     "metadata": {},
     "output_type": "execute_result"
    }
   ],
   "source": [
    "# Load the cascade\n",
    "face_cascade = cv2.CascadeClassifier('haarcascade_frontalface_default.xml')\n",
    "\n",
    "# Load image\n",
    "imgElon = face_recognition.load_image_file('elon musk.jpg')\n",
    "imgElon = cv2.cvtColor(imgElon, cv2.COLOR_BGR2RGB)\n",
    "\n",
    "# Load test image and resize it \n",
    "imgTest = face_recognition.load_image_file('elon musk1.jpg')\n",
    "imgTest = imutils.resize(imgTest, 576)\n",
    "imgTest = cv2.cvtColor(imgTest, cv2.COLOR_BGR2RGB)\n",
    "\n",
    "# Detect the face \n",
    "faces = face_cascade.detectMultiScale(imgElon, 1.1, 4)\n",
    "faces1 = face_cascade.detectMultiScale(imgElon, 1.1, 4)\n",
    "\n",
    "# Draw a rectangle around the face\n",
    "for (x,y,w,h) in faces:\n",
    "    cv2.rectangle(imgElon, (x,y), (x+w,y+h), (255,0,0), 2)\n",
    "    sub_face = imgElon[y:y+h, x:x+w]\n",
    "    imgElon[y:y+sub_face.shape[0], x:x+sub_face.shape[1]] = sub_face\n",
    "\n",
    "for (x,y,w,h) in faces1:\n",
    "    cv2.rectangle(imgTest, (x,y), (x+w,y+h), (255,0,0), 2)\n",
    "    sub_face = imgTest[y:y+h, x:x+w]\n",
    "    imgTest[y:y+sub_face.shape[0], x:x+sub_face.shape[1]] = sub_face\n",
    "\n",
    "\n",
    "# Show the images\n",
    "cv2.imshow('Elon Musk', imgElon)\n",
    "cv2.imshow('Elon Musk Test', imgTest)\n",
    "\n",
    "cv2.waitKey(0)"
   ]
  },
  {
   "cell_type": "markdown",
   "metadata": {},
   "source": [
    "#### Load images and Detect Faces Using face_recognition library"
   ]
  },
  {
   "cell_type": "code",
   "execution_count": 3,
   "metadata": {},
   "outputs": [
    {
     "data": {
      "text/plain": [
       "-1"
      ]
     },
     "execution_count": 3,
     "metadata": {},
     "output_type": "execute_result"
    }
   ],
   "source": [
    "# Load image\n",
    "imgElon = face_recognition.load_image_file('elon musk.jpg')\n",
    "imgElon = cv2.cvtColor(imgElon, cv2.COLOR_BGR2RGB)\n",
    "\n",
    "# Load test image and resize it \n",
    "imgTest = face_recognition.load_image_file('elon musk1.jpg')\n",
    "imgTest = imutils.resize(imgTest, 576)\n",
    "imgTest = cv2.cvtColor(imgTest, cv2.COLOR_BGR2RGB)\n",
    "\n",
    "# Finding the faces in image and finding the encodings \n",
    "faceLoc = face_recognition.face_locations(imgElon)[0]\n",
    "encodeElon = face_recognition.face_encodings(imgElon)[0]\n",
    "cv2.rectangle(imgElon, (faceLoc[1], faceLoc[2]), (faceLoc[3], faceLoc[0]), \n",
    "             (255,0,255), 2)\n",
    "\n",
    "faceLocTest = face_recognition.face_locations(imgTest)[0]\n",
    "encodeTest = face_recognition.face_encodings(imgTest)[0]\n",
    "cv2.rectangle(imgTest, (faceLoc[1], faceLoc[2]), (faceLoc[3], faceLoc[0]), \n",
    "             (255,0,255), 2)\n",
    "\n",
    "# Compare Faces\n",
    "results  = face_recognition.compare_faces([encodeElon], encodeTest)\n",
    "faceDis = face_recognition.face_distance([encodeElon], encodeTest)\n",
    "#print(results)\n",
    "#print(faceDis)\n",
    "# Print the results on the images\n",
    "cv2.putText(imgTest, f'{results} {round(faceDis[0], 2)}', (50,50), cv2.FONT_HERSHEY_COMPLEX, 1, (0,0,255), 2)\n",
    "\n",
    "# Show the images\n",
    "cv2.imshow('Elon Musk', imgElon)\n",
    "cv2.imshow('Elon Musk Test', imgTest)\n",
    "\n",
    "cv2.waitKey(0)"
   ]
  },
  {
   "cell_type": "code",
   "execution_count": null,
   "metadata": {},
   "outputs": [],
   "source": []
  }
 ],
 "metadata": {
  "kernelspec": {
   "display_name": "Python 3",
   "language": "python",
   "name": "python3"
  },
  "language_info": {
   "codemirror_mode": {
    "name": "ipython",
    "version": 3
   },
   "file_extension": ".py",
   "mimetype": "text/x-python",
   "name": "python",
   "nbconvert_exporter": "python",
   "pygments_lexer": "ipython3",
   "version": "3.7.4"
  }
 },
 "nbformat": 4,
 "nbformat_minor": 4
}
