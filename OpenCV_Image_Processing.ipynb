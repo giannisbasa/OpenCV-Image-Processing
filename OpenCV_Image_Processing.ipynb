{
 "cells": [
  {
   "cell_type": "markdown",
   "metadata": {},
   "source": [
    "#### Import Libraries"
   ]
  },
  {
   "cell_type": "code",
   "execution_count": 1,
   "metadata": {},
   "outputs": [],
   "source": [
    "import cv2\n",
    "import numpy as np\n",
    "import face_recognition\n",
    "import imutils\n",
    "from PIL import Image, ImageDraw"
   ]
  },
  {
   "cell_type": "markdown",
   "metadata": {},
   "source": [
    "#### Load Images and Detect Faces"
   ]
  },
  {
   "cell_type": "code",
   "execution_count": 3,
   "metadata": {},
   "outputs": [
    {
     "data": {
      "text/plain": [
       "-1"
      ]
     },
     "execution_count": 3,
     "metadata": {},
     "output_type": "execute_result"
    }
   ],
   "source": [
    "# Load the cascade\n",
    "face_cascade = cv2.CascadeClassifier('haarcascade_frontalface_default.xml')\n",
    "\n",
    "# Load image\n",
    "imgElon = face_recognition.load_image_file('C:/Users/johba/Desktop/Python/OPENCV/Unknown_faces/elon musk.jpg')\n",
    "imgElon = cv2.cvtColor(imgElon, cv2.COLOR_BGR2RGB)\n",
    "\n",
    "# Load test image and resize it \n",
    "imgTest = face_recognition.load_image_file('C:/Users/johba/Desktop/Python/OPENCV/UnKnown_faces/elon musk1.jpg')\n",
    "imgTest = imutils.resize(imgTest, 576)\n",
    "imgTest = cv2.cvtColor(imgTest, cv2.COLOR_BGR2RGB)\n",
    "\n",
    "# Detect the face \n",
    "faces = face_cascade.detectMultiScale(imgElon, 1.1, 4)\n",
    "faces1 = face_cascade.detectMultiScale(imgElon, 1.1, 4)\n",
    "\n",
    "# Draw a rectangle around the face\n",
    "for (x,y,w,h) in faces:\n",
    "    cv2.rectangle(imgElon, (x,y), (x+w,y+h), (255,0,0), 2)\n",
    "    sub_face = imgElon[y:y+h, x:x+w]\n",
    "    imgElon[y:y+sub_face.shape[0], x:x+sub_face.shape[1]] = sub_face\n",
    "\n",
    "for (x,y,w,h) in faces1:\n",
    "    cv2.rectangle(imgTest, (x,y), (x+w,y+h), (255,0,0), 2)\n",
    "    sub_face = imgTest[y:y+h, x:x+w]\n",
    "    imgTest[y:y+sub_face.shape[0], x:x+sub_face.shape[1]] = sub_face\n",
    "\n",
    "\n",
    "# Show the images\n",
    "cv2.imshow('Elon Musk', imgElon)\n",
    "cv2.imshow('Elon Musk Test', imgTest)\n",
    "\n",
    "cv2.waitKey(0)"
   ]
  },
  {
   "cell_type": "markdown",
   "metadata": {},
   "source": [
    "#### Find out how many faces there are in the photo"
   ]
  },
  {
   "cell_type": "code",
   "execution_count": 5,
   "metadata": {},
   "outputs": [
    {
     "name": "stdout",
     "output_type": "stream",
     "text": [
      "[(118, 315, 341, 92)]\n",
      "There are 1 people in this image\n"
     ]
    }
   ],
   "source": [
    "image = face_recognition.load_image_file('C:/Users/johba/Desktop/Python/OPENCV/Known_faces/bill gates.jpg')\n",
    "#image = face_recognition.load_image_file('olympiakos.jpg')\n",
    "\n",
    "location = face_recognition.face_locations(image)\n",
    "\n",
    "# Array of coords of each face\n",
    "print(location)\n",
    "\n",
    "# Print the number of people within an image\n",
    "print(f'There are {len(location)} people in this image')"
   ]
  },
  {
   "cell_type": "markdown",
   "metadata": {},
   "source": [
    "#### Load images and Detect Faces Using face_recognition library\n",
    "We have resized the test image in order to find correctly the face in the image. When te face is very large it can not find properly the face in the image."
   ]
  },
  {
   "cell_type": "code",
   "execution_count": 7,
   "metadata": {},
   "outputs": [
    {
     "data": {
      "text/plain": [
       "-1"
      ]
     },
     "execution_count": 7,
     "metadata": {},
     "output_type": "execute_result"
    }
   ],
   "source": [
    "# Load image\n",
    "imgElon = face_recognition.load_image_file('C:/Users/johba/Desktop/Python/OPENCV/Unknown_faces/elon musk.jpg')\n",
    "imgElon = cv2.cvtColor(imgElon, cv2.COLOR_BGR2RGB)\n",
    "\n",
    "# Load test image and resize it \n",
    "imgTest = face_recognition.load_image_file('C:/Users/johba/Desktop/Python/OPENCV/Unknown_faces/elon musk1.jpg')\n",
    "imgTest = imutils.resize(imgTest, 576)\n",
    "imgTest = cv2.cvtColor(imgTest, cv2.COLOR_BGR2RGB)\n",
    "\n",
    "# Finding the faces in image and finding the encodings \n",
    "faceLoc = face_recognition.face_locations(imgElon)[0]\n",
    "encodeElon = face_recognition.face_encodings(imgElon)[0]\n",
    "cv2.rectangle(imgElon, (faceLoc[1], faceLoc[2]), (faceLoc[3], faceLoc[0]), \n",
    "             (255,0,255), 2)\n",
    "\n",
    "faceLocTest = face_recognition.face_locations(imgTest)[0]\n",
    "encodeTest = face_recognition.face_encodings(imgTest)[0]\n",
    "cv2.rectangle(imgTest, (faceLoc[1], faceLoc[2]), (faceLoc[3], faceLoc[0]), \n",
    "             (255,0,255), 2)\n",
    "\n",
    "# Compare Faces\n",
    "results  = face_recognition.compare_faces([encodeElon], encodeTest)\n",
    "faceDis = face_recognition.face_distance([encodeElon], encodeTest)\n",
    "#print(results)\n",
    "#print(faceDis)\n",
    "# Print the results on the images\n",
    "cv2.putText(imgTest, f'{results} {round(faceDis[0], 2)}', (50,50), cv2.FONT_HERSHEY_COMPLEX, 1, (0,0,255), 2)\n",
    "\n",
    "# Show the images\n",
    "cv2.imshow('Elon Musk', imgElon)\n",
    "cv2.imshow('Elon Musk Test', imgTest)\n",
    "\n",
    "cv2.waitKey(0)"
   ]
  },
  {
   "cell_type": "markdown",
   "metadata": {},
   "source": [
    "#### Pull Faces\n",
    "Using Pillow library, we extract faces within an image and save them as separate images."
   ]
  },
  {
   "cell_type": "code",
   "execution_count": 8,
   "metadata": {},
   "outputs": [],
   "source": [
    "img = face_recognition.load_image_file('real madrid.jpg')\n",
    "locations = face_recognition.face_locations(img)\n",
    "\n",
    "for i in locations:\n",
    "    top, right, bottom, left = i\n",
    "    \n",
    "    face_image = img[top:bottom, left:right]\n",
    "    pil_image = Image.fromarray(face_image)\n",
    "    pil_image.save(f'{top}.jpg')"
   ]
  },
  {
   "cell_type": "markdown",
   "metadata": {},
   "source": [
    "#### Identify \n",
    "Identify faces in an image, create a box around them and write their names."
   ]
  },
  {
   "cell_type": "code",
   "execution_count": 7,
   "metadata": {},
   "outputs": [],
   "source": [
    "img_bill = face_recognition.load_image_file('C:/Users/johba/Desktop/Python/OPENCV/Known_faces/bill gates.jpg')\n",
    "encoding_bill = face_recognition.face_encodings(img_bill)[0]\n",
    "\n",
    "img_ma = face_recognition.load_image_file('C:/Users/johba/Desktop/Python/OPENCV/Known_faces/jack ma.jpg')\n",
    "encoding_ma = face_recognition.face_encodings(img_ma)[0]\n",
    "\n",
    "# Create and array of encodings and names\n",
    "known_faces = [\n",
    "    encoding_bill,\n",
    "    encoding_ma\n",
    "]\n",
    "\n",
    "known_names = [\n",
    "    'Bill Gates',\n",
    "    'Jack Ma'\n",
    "]\n",
    "\n",
    "# Load test images\n",
    "test_img = face_recognition.load_image_file('C:/Users/johba/Desktop/Python/OPENCV/Known_faces/Obama-Bezos-Gates.jpg')\n",
    "\n",
    "# Find faces in the test image\n",
    "locations = face_recognition.face_locations(test_img)\n",
    "encodings = face_recognition.face_encodings(test_img, locations)\n",
    "\n",
    "# Convert into Pillow format\n",
    "pil_image = Image.fromarray(test_img)\n",
    "\n",
    "# Create an ImageDraw instance\n",
    "draw = ImageDraw.Draw(pil_image)\n",
    "\n",
    "# Loop throught faces in test image\n",
    "for (top, right, bottom, left), face_encoding in zip(locations, encodings):\n",
    "    matches = face_recognition.compare_faces(known_faces, face_encoding)\n",
    "    \n",
    "    name = 'Unknown Person'\n",
    "    \n",
    "    # If match\n",
    "    if True in matches:\n",
    "        first_match_index = matches.index(True)\n",
    "        name = known_names[first_match_index]\n",
    "    \n",
    "    # Draw Box\n",
    "    draw.rectangle(((left, top), (right, bottom)), outline = (0,0,0))\n",
    "    \n",
    "    # Draw label\n",
    "    text_width, text_height = draw.textsize(name)\n",
    "    draw.rectangle(((left, bottom - text_height-10),(right, bottom)), fill = (0,0,0), \n",
    "                   outline = (0,0,0))\n",
    "    draw.text((left+6, bottom-text_height-5), name, fill=(255,255,255))\n",
    "\n",
    "del draw\n",
    "\n",
    "# Display image\n",
    "pil_image.show()\n",
    "\n",
    "# Save image\n",
    "#pil_image.save('Identity.jpg')"
   ]
  },
  {
   "cell_type": "code",
   "execution_count": null,
   "metadata": {},
   "outputs": [],
   "source": []
  }
 ],
 "metadata": {
  "kernelspec": {
   "display_name": "Python 3",
   "language": "python",
   "name": "python3"
  },
  "language_info": {
   "codemirror_mode": {
    "name": "ipython",
    "version": 3
   },
   "file_extension": ".py",
   "mimetype": "text/x-python",
   "name": "python",
   "nbconvert_exporter": "python",
   "pygments_lexer": "ipython3",
   "version": "3.7.4"
  }
 },
 "nbformat": 4,
 "nbformat_minor": 4
}
